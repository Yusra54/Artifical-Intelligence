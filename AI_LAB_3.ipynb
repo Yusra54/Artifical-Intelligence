{
  "nbformat": 4,
  "nbformat_minor": 0,
  "metadata": {
    "colab": {
      "provenance": [],
      "collapsed_sections": [],
      "authorship_tag": "ABX9TyPdJyTIVh0pyL8LR56Mfibr",
      "include_colab_link": true
    },
    "kernelspec": {
      "name": "python3",
      "display_name": "Python 3"
    },
    "language_info": {
      "name": "python"
    }
  },
  "cells": [
    {
      "cell_type": "markdown",
      "metadata": {
        "id": "view-in-github",
        "colab_type": "text"
      },
      "source": [
        "<a href=\"https://colab.research.google.com/github/Yusra54/Artifical-Intelligence/blob/main/AI_LAB_3.ipynb\" target=\"_parent\"><img src=\"https://colab.research.google.com/assets/colab-badge.svg\" alt=\"Open In Colab\"/></a>"
      ]
    },
    {
      "cell_type": "code",
      "source": [
        "class Node:\n",
        "    def __init__(self, state, parent, actions, totalCost):\n",
        "        self.state = state\n",
        "        self.parent = parent\n",
        "        self.actions = actions\n",
        "        self.totalCost = totalCost\n",
        "        \n",
        "graph = {'A': Node('A', None, ['B', 'E', 'C'], None),\n",
        "         'B': Node('B', None, ['A', 'D', 'E'], None),\n",
        "         'C': Node('C', None, ['A', 'F', 'G'], None),\n",
        "         'D': Node('D', None, ['B', 'E'], None),\n",
        "         'E': Node('E', None, ['A', 'B', 'D'], None),\n",
        "         'F': Node('F', None, ['C'], None),\n",
        "         'G': Node('G', None, ['C'], None)}"
      ],
      "metadata": {
        "id": "hiqoJG3mG_mj"
      },
      "execution_count": null,
      "outputs": []
    },
    {
      "cell_type": "code",
      "source": [
        "\n",
        "\n",
        "def Bfs(graph):\n",
        "\n",
        "    initialState = 'F'\n",
        "    goalState = 'A'\n",
        "    front=[initialState]\n",
        "    explored=[]\n",
        "\n",
        "    while len(front)!=0:\n",
        "      currentNode= front.pop(0)\n",
        "      explored.append(currentNode)\n",
        "      for child in graph[currentNode].actions:\n",
        "        if child not in  front and child not in explored:\n",
        "          graph[child].parent=currentNode\n",
        "          if graph[child].state== goalState:\n",
        "            return actionSeq(graph,initialState,goalState)\n",
        "          front.append(child)\n",
        "solution=Bfs(graph)\n",
        "print(solution)\n",
        "\n",
        "def actionSeq(graph , initialState, goalState):\n",
        "    solution=[goalState]\n",
        "    currentParent = graph[goalState].parent\n",
        "    while currentParent != None:\n",
        "      solution.append(currentParent)\n",
        "      currentParent = graph[currentParent].parent\n",
        "    solution.reverse()\n",
        "    return solution\n",
        "\n",
        "\n",
        "    \n",
        "\n"
      ],
      "metadata": {
        "colab": {
          "base_uri": "https://localhost:8080/"
        },
        "id": "_usaTYAsG9OL",
        "outputId": "372c13f7-9902-4d08-e696-7aab6fa2ab5b"
      },
      "execution_count": null,
      "outputs": [
        {
          "output_type": "stream",
          "name": "stdout",
          "text": [
            "['F', 'C', 'A']\n"
          ]
        }
      ]
    },
    {
      "cell_type": "code",
      "source": [
        "# lab task 1\n",
        "\n",
        "class Node:\n",
        "    def __init__(self, state, parent, actions):\n",
        "        self.state = state\n",
        "        self.parent = parent\n",
        "        self.actions = actions\n",
        "\n",
        "graphs = {'Oradea': Node('Oradea', None, ['Zerind' , 'Sibui']),\n",
        "          'Zerind': Node('Zerind', None, ['Oradea' , 'Arad']),\n",
        "          'Neamt': Node('Neamt', None, ['Iasi']),\n",
        "          'Arad': Node('Arad', None, ['Zerind', 'Sibui' , 'Timisoara']),\n",
        "          'Isai': Node('Isai', None, ['Neamt','Vaslui']),\n",
        "          'Sibui': Node('Sibui', None, ['Oradea', 'Arad' , 'Fagaras']),\n",
        "          'Fagaras': Node('Fagaras', None, ['Sibui', 'Bucharest']),\n",
        "          'Vaslui': Node('Vaslui', None, ['Isai','Urziceni']),\n",
        "          'Timisoara': Node('Timisoara', None, ['Arad','Lugoj']),\n",
        "          'Riminica': Node('Riminica', None, ['Sibui','Pitesti','Craiova']),\n",
        "          'Lugoj': Node('Lugoj', None, ['Timisoara','Mehadia']),\n",
        "          'Pitesti': Node('Pitesti', None, ['Riminica','Craiova','Bucharest']),\n",
        "          'Mehadia': Node('Mehadia', None, ['Lugoj','Drobeta']),\n",
        "          'Bucharest': Node('Bucharest', None, ['Fagaras','Pitesti','Urziceni']),\n",
        "          'Urziceni': Node('Urziceni', None, ['Bucharest','Hirsova','Vaslui']),\n",
        "          'Hirsova': Node('Hirsova', None, ['Urziceni','Eforie']),\n",
        "          'Drobeta': Node('Drobeta', None, ['Mehndia','Craiova']),\n",
        "          'Craiova': Node('Craiova', None, ['Drobeta','Riminica','Pitesti']),\n",
        "          'Giurgui': Node('Giurgui', None, ['Bucharest']),\n",
        "          'Eforie': Node('Eforie', None, ['Hirsova'])}\n",
        "      \n",
        "  \n",
        "    "
      ],
      "metadata": {
        "id": "QduedieIKYkm"
      },
      "execution_count": null,
      "outputs": []
    },
    {
      "cell_type": "code",
      "source": [
        "def Bfs(graphs):\n",
        "\n",
        "    initialState = \"Arad\"\n",
        "    goalState = \"Bucharest\"\n",
        "    front=[initialState]\n",
        "    explored=[]\n",
        "\n",
        "    while len(front)!=0:\n",
        "      currentNode= front.pop(0)\n",
        "      explored.append(currentNode)\n",
        "      for child in graphs[currentNode].actions:\n",
        "        if child not in  front and child not in explored:\n",
        "          graphs[child].parent=currentNode\n",
        "          if graphs[child].state== goalState:\n",
        "            return actionSeq(graphs,initialState,goalState)\n",
        "          front.append(child)\n",
        "solution=Bfs(graphs)\n",
        "print(solution)\n",
        "\n",
        "def actionSeq(graphs , initialState, goalState):\n",
        "    solution=[goalState]\n",
        "    currentParent = graphs[goalState].parent\n",
        "    while currentParent != None:\n",
        "      solution.append(currentParent)\n",
        "      currentParent = graphs[currentParent].parent\n",
        "    solution.reverse()\n",
        "    return solution\n",
        "\n",
        "\n"
      ],
      "metadata": {
        "colab": {
          "base_uri": "https://localhost:8080/"
        },
        "id": "xoLj-HpsLvLY",
        "outputId": "1331ddbf-a684-4818-e7e3-ac9492b1e038"
      },
      "execution_count": null,
      "outputs": [
        {
          "output_type": "stream",
          "name": "stdout",
          "text": [
            "['Arad', 'Sibui', 'Fagaras', 'Bucharest']\n"
          ]
        }
      ]
    },
    {
      "cell_type": "code",
      "source": [
        "# lab task 2\n",
        "\n",
        "class Node:\n",
        "    def __init__(self, state, parent, actions,totalcost):\n",
        "        self.state = state\n",
        "        self.parent = parent\n",
        "        self.actions = actions\n",
        "        self.totalcost=totalcost\n",
        "\n",
        "maze={'A': Node('A', None, ['T', 'B'], None),\n",
        "      'B': Node('B', None, ['A','C'], None),\n",
        "      'C': Node('C', None, ['B','D'], None),\n",
        "      'D': Node('D', None, ['C','E'], None),\n",
        "      'E': Node('E', None, ['D','F'], None),\n",
        "      'P': Node('P', None, ['O','P'], None),\n",
        "      'O': Node('O', None, ['P','N'], None),\n",
        "      'N': Node('N', None, ['M','O','X'], None),\n",
        "      'M': Node('M', None, ['N','L'], None),\n",
        "      'L': Node('L', None, ['K','M','Z'], None),\n",
        "      'W': Node('W', None, ['V'], None),\n",
        "      'V': Node('V', None, ['W','U'], None),\n",
        "      'U': Node('U', None, ['V','H'], None),\n",
        "      'F': Node('F', None, ['E','G'], None),\n",
        "      'G': Node('G', None, ['F','H'], None),\n",
        "      'H': Node('H', None, ['G','I'], None),\n",
        "      'I': Node('I', None, ['H','J'], None),\n",
        "      'J': Node('J', None, ['I','K'], None),\n",
        "      'K': Node('K', None, ['J','L'], None),\n",
        "      'Z': Node('Z', None, ['J','L'], None),\n",
        "      'T': Node('T', None, ['A','S'], None),\n",
        "      'S': Node('S', None, ['T','R'], None),\n",
        "      'R': Node('R', None, ['S','Q'], None),\n",
        "      'Q': Node('Q', None, ['R','P','Y'], None),\n",
        "      'Y': Node('Y', None, ['Q'], None),\n",
        "      'X': Node('X', None, ['N'], None),}"
      ],
      "metadata": {
        "id": "YaU8An4lNron"
      },
      "execution_count": null,
      "outputs": []
    },
    {
      "cell_type": "code",
      "source": [
        "def Bfs(maze):\n",
        "\n",
        "    initialState = 'W'\n",
        "    goalState = 'Y'\n",
        "    front=[initialState]\n",
        "    explored=[]\n",
        "\n",
        "    while len(front)!=0:\n",
        "      currentNode= front.pop(0)\n",
        "      explored.append(currentNode)\n",
        "      for child in maze[currentNode].actions:\n",
        "        if child not in  front and child not in explored:\n",
        "          maze[child].parent=currentNode\n",
        "          if maze[child].state== goalState:\n",
        "            return actionSeq(maze,initialState,goalState)\n",
        "          front.append(child)\n",
        "solution=Bfs(maze)\n",
        "print(solution)\n",
        "\n",
        "def actionSeq(graph , initialState, goalState):\n",
        "    solution=[goalState]\n",
        "    currentParent = maze[goalState].parent\n",
        "    while currentParent != None:\n",
        "      solution.append(currentParent)\n",
        "      currentParent = maze[currentParent].parent\n",
        "    solution.reverse()\n",
        "    return solution\n"
      ],
      "metadata": {
        "colab": {
          "base_uri": "https://localhost:8080/"
        },
        "id": "ShY_Uvd7XvNL",
        "outputId": "09de3fb9-8ab8-4a94-e6a7-a744b5c1361f"
      },
      "execution_count": null,
      "outputs": [
        {
          "output_type": "stream",
          "name": "stdout",
          "text": [
            "['W', 'V', 'U', 'H', 'G', 'F', 'E', 'D', 'C', 'B', 'A', 'T', 'S', 'R', 'Q', 'Y']\n"
          ]
        }
      ]
    }
  ]
}