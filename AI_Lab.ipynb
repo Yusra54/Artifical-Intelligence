{
  "nbformat": 4,
  "nbformat_minor": 0,
  "metadata": {
    "colab": {
      "provenance": [],
      "collapsed_sections": [],
      "authorship_tag": "ABX9TyN5J2gWUO//lWwNKChjn/JI",
      "include_colab_link": true
    },
    "kernelspec": {
      "name": "python3",
      "display_name": "Python 3"
    },
    "language_info": {
      "name": "python"
    }
  },
  "cells": [
    {
      "cell_type": "markdown",
      "metadata": {
        "id": "view-in-github",
        "colab_type": "text"
      },
      "source": [
        "<a href=\"https://colab.research.google.com/github/Yusra54/Artifical-Intelligence/blob/main/AI_Lab.ipynb\" target=\"_parent\"><img src=\"https://colab.research.google.com/assets/colab-badge.svg\" alt=\"Open In Colab\"/></a>"
      ]
    },
    {
      "cell_type": "code",
      "execution_count": null,
      "metadata": {
        "colab": {
          "base_uri": "https://localhost:8080/"
        },
        "id": "jdpp90f24lGE",
        "outputId": "4352b1f6-db0e-430f-8612-428a1a596d39"
      },
      "outputs": [
        {
          "output_type": "stream",
          "name": "stdout",
          "text": [
            "0\n",
            "Bingo!\n",
            "3\n",
            "Bingo!\n",
            "6\n",
            "9\n",
            "---\n"
          ]
        }
      ],
      "source": [
        "# Example\n",
        "for i in range(10): \n",
        "  if i%3 == 0: \n",
        "    print(i) \n",
        "  if i%5 == 0: \n",
        "    print(\"Bingo!\")\n",
        "print(\"---\") \n"
      ]
    },
    {
      "cell_type": "code",
      "source": [
        "# Example\n",
        "print(0o10) \n",
        "print(0x10)  \n",
        "print(0b10) \n"
      ],
      "metadata": {
        "colab": {
          "base_uri": "https://localhost:8080/"
        },
        "id": "tfuM4Jik-XxT",
        "outputId": "d7e6879c-0fc5-47dd-95d3-6c1d3c8c6952"
      },
      "execution_count": null,
      "outputs": [
        {
          "output_type": "stream",
          "name": "stdout",
          "text": [
            "8\n",
            "16\n",
            "2\n"
          ]
        }
      ]
    },
    {
      "cell_type": "code",
      "source": [
        "# Example\n",
        "type(4.2) \n",
        "type(.4e7)\n"
      ],
      "metadata": {
        "colab": {
          "base_uri": "https://localhost:8080/"
        },
        "id": "BKo7QM_1-ncm",
        "outputId": "985154c0-23d0-4b8a-d7ea-a6e47c301207"
      },
      "execution_count": null,
      "outputs": [
        {
          "output_type": "execute_result",
          "data": {
            "text/plain": [
              "float"
            ]
          },
          "metadata": {},
          "execution_count": 5
        }
      ]
    },
    {
      "cell_type": "code",
      "source": [
        "# Example\n",
        "print('foo\\\\bar') \n"
      ],
      "metadata": {
        "colab": {
          "base_uri": "https://localhost:8080/"
        },
        "id": "3HM8TJ8__H8-",
        "outputId": "a89597a8-1687-4e71-a791-f2d114a6c925"
      },
      "execution_count": null,
      "outputs": [
        {
          "output_type": "stream",
          "name": "stdout",
          "text": [
            "foo\\bar\n"
          ]
        }
      ]
    },
    {
      "cell_type": "code",
      "source": [
        "# Activity 1: \n",
        "# Let us take an integer from user as input and check whether the given value is even or not.\n",
        "\n",
        "num=int(input(\"Enter a number: \"))\n",
        "if num%2==0:\n",
        "  print(\"Its an Even number\")\n",
        "else:\n",
        "  print(\"Its an Odd number\") "
      ],
      "metadata": {
        "colab": {
          "base_uri": "https://localhost:8080/"
        },
        "id": "saSP6SwW_hoC",
        "outputId": "13076359-8b4d-49fc-bd88-55f91ac0c372"
      },
      "execution_count": null,
      "outputs": [
        {
          "output_type": "stream",
          "name": "stdout",
          "text": [
            "Enter a number: 2\n",
            "Its an Even number\n"
          ]
        }
      ]
    },
    {
      "cell_type": "code",
      "source": [
        "# Activity 2: \t\n",
        "# Write a Python code to keep accepting integer values from user until 0 is entered. Display sum of the given values. \n",
        "\n",
        "sum=0\n",
        "n=int(input(\"Enter an integer number: \"))\n",
        "while n!=0:\n",
        "  sum=sum+n\n",
        "  n=int(input(\"Enter an integer number: \"))\n",
        "print(\"Sum of given numbers is: \",sum)\n",
        "\n",
        "\n",
        "\n"
      ],
      "metadata": {
        "colab": {
          "base_uri": "https://localhost:8080/"
        },
        "id": "YnnyoDsj_2ni",
        "outputId": "3d2d83fd-fcb1-4ba7-f27a-e06c419ce872"
      },
      "execution_count": null,
      "outputs": [
        {
          "output_type": "stream",
          "name": "stdout",
          "text": [
            "Enter an integer number: 3\n",
            "Enter an integer number: 5\n",
            "Enter an integer number: 0\n",
            "Sum of given numbers is:  8\n"
          ]
        }
      ]
    },
    {
      "cell_type": "code",
      "source": [
        "# Activity 3:\n",
        "# Write a Python code to accept an integer value from user and check that whether the given value is prime number or not.\n",
        "\n",
        "isPrime = True\n",
        "i=2\n",
        "num=int(input(\"Enter a number: \"))\n",
        "while i<num:\n",
        "  remainder=num%i\n",
        "  if remainder==0:\n",
        "    isPrime=False\n",
        "    break\n",
        "  else:\n",
        "    i=i+1\n",
        "if isPrime:\n",
        "  print(\"Number is Prime\")\n",
        "else:\n",
        "  print(\"Number is not Prime\")"
      ],
      "metadata": {
        "colab": {
          "base_uri": "https://localhost:8080/"
        },
        "id": "UiYLD00FBYo4",
        "outputId": "0158a41c-c194-4ed5-907a-baff799d6a5e"
      },
      "execution_count": null,
      "outputs": [
        {
          "output_type": "stream",
          "name": "stdout",
          "text": [
            "Enter a number: 2\n",
            "Number is Prime\n"
          ]
        }
      ]
    },
    {
      "cell_type": "code",
      "source": [
        "# Activity 4: \n",
        "# Accept 5 integer values from user and display their sum. Draw flowchart before coding in python. \n",
        "\n",
        "sum=0\n",
        "i=0\n",
        "while i<=4:\n",
        "  s=int(input(\"Enter a number: \"))\n",
        "  sum=sum+s\n",
        "  i=i+1\n",
        "print(\"Sum is: \",sum)\n"
      ],
      "metadata": {
        "colab": {
          "base_uri": "https://localhost:8080/"
        },
        "id": "smX2Z6RqCvXs",
        "outputId": "9fbd5bbc-2349-47aa-d2fa-c5c6ff6debd6"
      },
      "execution_count": null,
      "outputs": [
        {
          "output_type": "stream",
          "name": "stdout",
          "text": [
            "Enter a number: 4\n",
            "Enter a number: 7\n",
            "Enter a number: 6\n",
            "Enter a number: 2\n",
            "Enter a number: 1\n",
            "Sum is:  20\n"
          ]
        }
      ]
    },
    {
      "cell_type": "code",
      "source": [
        "# Activity 5: \n",
        "# Calculate the sum of all the values between 0-10 using while loop.\n",
        "\n",
        "sum=0\n",
        "i=1\n",
        "while i<=10:\n",
        "  sum=sum+i\n",
        "  i=i+1\n",
        "print(\"Sum is: \",sum)"
      ],
      "metadata": {
        "colab": {
          "base_uri": "https://localhost:8080/"
        },
        "id": "JOUX2-KBDYOU",
        "outputId": "e5d0c1ae-bc5c-45c8-ca24-c7c25e711ae5"
      },
      "execution_count": null,
      "outputs": [
        {
          "output_type": "stream",
          "name": "stdout",
          "text": [
            "Sum is:  55\n"
          ]
        }
      ]
    },
    {
      "cell_type": "code",
      "source": [
        "# Activity 6: \n",
        "# Take input from the keyboard and use it in your program. \n",
        "\n",
        "name  =  input('What  is  your  name?  ') \n",
        "print('Hello ' + name) \n",
        " \n",
        "job  =  input('What  is  your  job?  ') \n",
        "print('Your  job  is  '  +  job) \n",
        " \n",
        "num  =  input('Give  me  a  number?  ') \n",
        "print('You said: ' + str(num))\n",
        "\n"
      ],
      "metadata": {
        "colab": {
          "base_uri": "https://localhost:8080/"
        },
        "id": "ud9DTL-5D7kM",
        "outputId": "d648918e-1a14-412b-a2b0-5dc417197dff"
      },
      "execution_count": null,
      "outputs": [
        {
          "output_type": "stream",
          "name": "stdout",
          "text": [
            "What  is  your  name?  Yusra\n",
            "Hello Yusra\n",
            "What  is  your  job?  Teaching\n",
            "Your  job  is  Teaching\n",
            "Give  me  a  number?  6\n",
            "You said: 6\n"
          ]
        }
      ]
    },
    {
      "cell_type": "code",
      "source": [
        "# Activity 7: \n",
        "# Generate a random number between 1 and 9 (including 1 and 9). Ask the user to guess the number, \n",
        "# then tell them whether they guessed too low, too high, or exactly right. \n",
        "\n",
        "import random\n",
        "min=1\n",
        "max=9\n",
        "tries=0\n",
        "number=random.randint(min,max)\n",
        "guess_more= True\n",
        "\n",
        "while guess_more != False:\n",
        "  guess=int(input(\"Guess the number or Enter 0 for exit: \"))\n",
        "  if guess == 0:\n",
        "    guess_more= False\n",
        "    break\n",
        "  elif guess < number:\n",
        "    print(\"Your guess is too low\")\n",
        "  elif guess > number:\n",
        "    print(\"Your guess is too high\")\n",
        "  elif guess == number:\n",
        "    print(\"Yes!! You got it!\")\n",
        "    tries=tries+1\n",
        "    break\n",
        "  tries=tries+1\n",
        "if tries == 0:\n",
        "  print(\"Better luck next time\")\n",
        "if tries<=3 and tries!=0:\n",
        "  print(\"Great job, only \"+str(tries)+\" tries\")\n",
        "elif tries>3 and tries<=5:\n",
        "  print(\"Pretty good, \"+str(tries)+\" tries\")\n",
        "elif tries>5:\n",
        "  print(\"Bad, \"+str(tries)+\" tries\")\n"
      ],
      "metadata": {
        "colab": {
          "base_uri": "https://localhost:8080/"
        },
        "id": "BUEBMpfmEbft",
        "outputId": "86fa5516-1525-4fbd-8f77-8c6a4f426577"
      },
      "execution_count": 9,
      "outputs": [
        {
          "output_type": "stream",
          "name": "stdout",
          "text": [
            "Guess the number or Enter 0 for exit: 4\n",
            "Your guess is too high\n",
            "Guess the number or Enter 0 for exit: 3\n",
            "Yes!! You got it!\n",
            "Great job, only 2 tries\n"
          ]
        }
      ]
    },
    {
      "cell_type": "code",
      "source": [
        "# Lab Task 1: \n",
        "# Write a program that prompts the user to input an integer and then outputs the number with the digits reversed. \n",
        "strg=\"\"\n",
        "num= int(input(\"Enter an integer number: \")) \n",
        "\n",
        "n= str(num)\n",
        "length=len(n)\n",
        "for i in range((int(length))):\n",
        "  numb=num%10 \n",
        "  strg=strg+str(numb)\n",
        "  num=int(num/10)\n",
        "  \n",
        "print(strg)\n",
        "\n"
      ],
      "metadata": {
        "colab": {
          "base_uri": "https://localhost:8080/"
        },
        "id": "vp5rlytcjGHh",
        "outputId": "07582fef-3abc-4103-9f74-20eff0ff4f02"
      },
      "execution_count": 21,
      "outputs": [
        {
          "output_type": "stream",
          "name": "stdout",
          "text": [
            "Enter an integer number: 12345\n",
            "54321\n"
          ]
        }
      ]
    },
    {
      "cell_type": "code",
      "source": [
        "# Lab Task 2: \n",
        "# Write a program that reads a set of integers, and then prints the sum of the even and odd integers.\n",
        "EvenSum=0\n",
        "OddSum=0\n",
        "while n!=0:\n",
        "  num= int(input(\"Enter a number: \"))\n",
        "  if num%2 == 0:\n",
        "    EvenSum+=num\n",
        "  else:\n",
        "    OddSum+=num\n",
        "  ext=input(\"If you want to continue, press yes/y otherwise press no/n for exit: \")\n",
        "  if ext.lower()== \"no\" or ext.lower() == \"n\":\n",
        "    break\n",
        "print(\"Sum of Even Numbers: \",EvenSum)\n",
        "print(\"Sum of Odd Numbers: \",OddSum)\n"
      ],
      "metadata": {
        "colab": {
          "base_uri": "https://localhost:8080/"
        },
        "id": "iu12UBMzqu7z",
        "outputId": "6cffd597-23d3-4c49-a020-064576191586"
      },
      "execution_count": 25,
      "outputs": [
        {
          "output_type": "stream",
          "name": "stdout",
          "text": [
            "Enter a number: 4\n",
            "If you want to continue, press yes/y otherwise press no/n for exit: y\n",
            "Enter a number: 5\n",
            "If you want to continue, press yes/y otherwise press no/n for exit: n\n",
            "Sum of Even Numbers:  4\n",
            "Sum of Odd Numbers:  5\n"
          ]
        }
      ]
    },
    {
      "cell_type": "code",
      "source": [
        "# Lab Task 3: \n",
        "# Fibonacci series is that when you add the previous two numbers the next number is formed. \n",
        "# You have to start from 0 and 1. \n",
        "a=0\n",
        "b=1\n",
        "ans=0\n",
        "num=int(input(\"Enter a number: \"))\n",
        "print(a)\n",
        "print(b)\n",
        "for i in range(num-2):\n",
        "  ans=a+b\n",
        "  a=b\n",
        "  b=ans\n",
        "  \n",
        "  print(ans)\n"
      ],
      "metadata": {
        "colab": {
          "base_uri": "https://localhost:8080/"
        },
        "id": "ANY0lbl6udwf",
        "outputId": "ac13d0c3-4a28-4301-fcef-b6fdf0aa122a"
      },
      "execution_count": 49,
      "outputs": [
        {
          "output_type": "stream",
          "name": "stdout",
          "text": [
            "Enter a number: 7\n",
            "0\n",
            "1\n",
            "1\n",
            "2\n",
            "3\n",
            "5\n",
            "8\n"
          ]
        }
      ]
    },
    {
      "cell_type": "code",
      "source": [
        "# Lab Task 4: \n",
        "# Write a Python code to accept marks of a student from 1-100 and display the grade according to the following formula. \n",
        " \n",
        "# Grade F if marks are less than 50  \n",
        "# Grade E if marks are between 50 to 60  \n",
        "# Grade D if marks are between 61 to 70  \n",
        "# Grade C if marks are between 71 to 80 \n",
        "# Grade B if marks are between 81 to 90 \n",
        "# Grade A if marks are between 91 to 100 \n",
        "\n",
        "press=0\n",
        "while n!=0:\n",
        "  print(\"--------Menu--------\")\n",
        "  print(\"For entering marks press 1\")\n",
        "  print(\"For exit press 0\")\n",
        "  press=int(input(\"Enter your choice: \"))\n",
        "  if press==1:\n",
        "    marks=int(input(\"Enter students' marks from 1-100: \"))\n",
        "    if marks>=91 and marks<=100:\n",
        "      grade='A'\n",
        "      print(\"Student grade is: \",grade)\n",
        "    elif marks>=81 and marks<=90:\n",
        "      grade='B'\n",
        "      print(\"Student grade is: \",grade)\n",
        "    elif marks>=71 and marks<=80:\n",
        "      grade='C'\n",
        "      print(\"Student grade is: \",grade)\n",
        "    elif marks>=61 and marks<=70:\n",
        "      grade='D'\n",
        "      print(\"Student grade is: \",grade)\n",
        "    elif marks>=50 and marks<=60:\n",
        "      grade='E'\n",
        "      print(\"Student grade is: \",grade)\n",
        "    elif marks<50:\n",
        "      grade='F'\n",
        "      print(\"Student grade is: \",grade)\n",
        "    else:\n",
        "      print(\"Enter correct marks, range is from 1-100\")\n",
        "\n",
        "  elif press==0:\n",
        "    break\n",
        "  else:\n",
        "    print(\"Choose correct option\")\n",
        "\n",
        "\n"
      ],
      "metadata": {
        "colab": {
          "base_uri": "https://localhost:8080/"
        },
        "id": "1zi7ghRfuzdY",
        "outputId": "57814ef4-ce53-4e5a-8f9e-6e3ed7e3b16e"
      },
      "execution_count": 28,
      "outputs": [
        {
          "name": "stdout",
          "output_type": "stream",
          "text": [
            "--------Menu--------\n",
            "For entering marks press 1\n",
            "For exit press 0\n",
            "Enter your choice: 1\n",
            "Enter students' marks from 1-100: 20\n",
            "Student grade is:  F\n",
            "--------Menu--------\n",
            "For entering marks press 1\n",
            "For exit press 0\n",
            "Enter your choice: 1\n",
            "Enter students' marks from 1-100: 110\n",
            "Enter correct marks, range is from 1-100\n",
            "--------Menu--------\n",
            "For entering marks press 1\n",
            "For exit press 0\n",
            "Enter your choice: 1\n",
            "Enter students' marks from 1-100: 45\n",
            "Student grade is:  F\n",
            "--------Menu--------\n",
            "For entering marks press 1\n",
            "For exit press 0\n",
            "Enter your choice: 79\n",
            "Choose correct option\n",
            "--------Menu--------\n",
            "For entering marks press 1\n",
            "For exit press 0\n",
            "Enter your choice: 1\n",
            "Enter students' marks from 1-100: 67\n",
            "Student grade is:  D\n",
            "--------Menu--------\n",
            "For entering marks press 1\n",
            "For exit press 0\n",
            "Enter your choice: 0\n"
          ]
        }
      ]
    },
    {
      "cell_type": "code",
      "source": [
        "# Lab Task 5: \n",
        "# Write a program that takes a number from user and calculate the factorial of that number. \n",
        "\n",
        "num=int(input(\"Enter a number: \"))\n",
        "prod=1\n",
        "for i in range(num-1):\n",
        "  prod=prod*(i+2)\n",
        "  \n",
        "print(\"Factorial of\",num,\"is: \",prod)"
      ],
      "metadata": {
        "colab": {
          "base_uri": "https://localhost:8080/"
        },
        "id": "QUe8gL3X03iP",
        "outputId": "06127dbe-2c69-41d8-b4c6-8f4ea309d1bb"
      },
      "execution_count": 39,
      "outputs": [
        {
          "output_type": "stream",
          "name": "stdout",
          "text": [
            "Enter a number: 10\n",
            "Factorial of 10 is:  3628800\n"
          ]
        }
      ]
    }
  ]
}