{
  "nbformat": 4,
  "nbformat_minor": 0,
  "metadata": {
    "colab": {
      "provenance": [],
      "collapsed_sections": [],
      "authorship_tag": "ABX9TyM6hHYMhbvsk3nRddNwQarf",
      "include_colab_link": true
    },
    "kernelspec": {
      "name": "python3",
      "display_name": "Python 3"
    },
    "language_info": {
      "name": "python"
    }
  },
  "cells": [
    {
      "cell_type": "markdown",
      "metadata": {
        "id": "view-in-github",
        "colab_type": "text"
      },
      "source": [
        "<a href=\"https://colab.research.google.com/github/Yusra54/Artifical-Intelligence/blob/main/AI_Lab_2_Activities.ipynb\" target=\"_parent\"><img src=\"https://colab.research.google.com/assets/colab-badge.svg\" alt=\"Open In Colab\"/></a>"
      ]
    },
    {
      "cell_type": "code",
      "execution_count": null,
      "metadata": {
        "colab": {
          "base_uri": "https://localhost:8080/"
        },
        "id": "1lrFyUAi3SeE",
        "outputId": "7326eee1-2dd5-4ec6-a077-ca7542f52339"
      },
      "outputs": [
        {
          "output_type": "stream",
          "name": "stdout",
          "text": [
            "Enter  1  value for List 1: \n",
            "2\n",
            "Enter  1  value for List 2: \n",
            "3\n",
            "Enter  2  value for List 1: \n",
            "4\n",
            "Enter  2  value for List 2: \n",
            "5\n",
            "Enter  3  value for List 1: \n",
            "6\n",
            "Enter  3  value for List 2: \n",
            "7\n",
            "Enter  4  value for List 1: \n",
            "8\n",
            "Enter  4  value for List 2: \n",
            "9\n",
            "Enter  5  value for List 1: \n",
            "10\n",
            "Enter  5  value for List 2: \n",
            "11\n",
            "------------------------------------------------\n",
            "[2, 4, 6, 8, 10, 3, 5, 7, 9, 11]\n"
          ]
        }
      ],
      "source": [
        "# Activity 1 \n",
        "# Accept two lists from user and display their join.\n",
        "\n",
        "list1=[]\n",
        "list2=[]\n",
        "list3=[]\n",
        "\n",
        "\n",
        "for i in range(0,5,1):\n",
        "  print(\"Enter \",(i+1),\" value for List 1: \")\n",
        "  val=int(input())\n",
        "  list1.append(val)\n",
        "  print(\"Enter \",(i+1),\" value for List 2: \")\n",
        "  val=int(input())\n",
        "  list2.append(val)\n",
        "\n",
        "\n",
        "list3=list1+list2\n",
        "print(\"------------------------------------------------\")\n",
        "\n",
        "print(list3)\n"
      ]
    },
    {
      "cell_type": "code",
      "source": [
        "# Activity 2: \n",
        "# A palindrome is a string which is same read forward or backwards. \n",
        "\n",
        "def IsPalindrome(word):\n",
        "  strg=\"\"\n",
        "  rev=\"\"\n",
        "  length=len(word)+1\n",
        "  for i in range(-1,-length,-1):\n",
        "    rev=word[i]\n",
        "    strg=strg+rev\n",
        "  if strg == word:\n",
        "    return True\n",
        "  else:\n",
        "    return False\n",
        "\n",
        "word=input(\"Enter a string: \")\n",
        "print(IsPalindrome(word))\n"
      ],
      "metadata": {
        "colab": {
          "base_uri": "https://localhost:8080/"
        },
        "id": "_GDbZKO38uPc",
        "outputId": "7316117c-f71c-414c-c5a1-4c8d200759fe"
      },
      "execution_count": null,
      "outputs": [
        {
          "output_type": "stream",
          "name": "stdout",
          "text": [
            "Enter a string: deed\n",
            "True\n"
          ]
        }
      ]
    },
    {
      "cell_type": "code",
      "source": [
        "# Activity 3: \n",
        "# Imagine two matrices given in the form of 2D lists as under;\n",
        "# a = [[1, 0, 0], [0, 1, 0], [0, 0, 1] ] b = [[1, 2, 3], [4, 5, 6], [7, 8, 9] ] \n",
        "# Write a python code that finds another matrix/2D list that is a product of a and b, i.e., C=a*b\n",
        "\n",
        "a = [[1, 0, 0], [0, 1, 0], [0, 0, 1] ] \n",
        "b = [[1, 2, 3], [4, 5, 6], [7, 8, 9] ]\n",
        "c=[]\n",
        "d=[[1, 1, 1], [1, 0, 6], [1, 0, 9] ]\n",
        "final=[]\n",
        "\n",
        "for row in range(3):\n",
        "  c.append([])\n",
        "  for col in range(3):\n",
        "    c[row].append(0)\n",
        "    for aux in range(3):\n",
        "      c[row][col]+=a[row][aux]*b[aux][col]\n",
        "\n",
        "print(c)\n",
        "\n",
        "for row in range(3):\n",
        "  final.append([])\n",
        "  for col in range(3):\n",
        "    final[row].append(0)\n",
        "    for aux in range(3):\n",
        "      final[row][col]+=c[row][aux]*d[aux][col]\n",
        "\n",
        "print(\"Final\")\n",
        "print(final)\n",
        "\n",
        "\n",
        "\n",
        " \n"
      ],
      "metadata": {
        "colab": {
          "base_uri": "https://localhost:8080/"
        },
        "id": "x9jT5nqBAobX",
        "outputId": "c3a44541-03d8-493b-e1cb-ed166f8eb923"
      },
      "execution_count": null,
      "outputs": [
        {
          "output_type": "stream",
          "name": "stdout",
          "text": [
            "[[1, 2, 3], [4, 5, 6], [7, 8, 9]]\n",
            "Final\n",
            "[[6, 1, 40], [15, 4, 88], [24, 7, 136]]\n"
          ]
        }
      ]
    },
    {
      "cell_type": "code",
      "source": [
        "# Printing of 2D\n",
        "a = [[1, 0, 0], [0, 1, 0], [0, 0, 1] ] \n",
        "b = [[1, 2, 3], [4, 5, 6], [7, 8, 9] ]\n",
        "c=[]\n",
        "d=[[1, 1, 1], [1, 0, 6], [1, 0, 9] ]\n",
        "final=[]\n",
        "\n",
        "\n",
        "def multiply(a,b,c):\n",
        "  for row in range(3):\n",
        "    c.append([])\n",
        "    for col in range(3):\n",
        "      c[row].append(0)\n",
        "      for aux in range(3):\n",
        "        c[row][col]+=a[row][aux]*b[aux][col]\n",
        "\n",
        "multiply(a,b,c)\n",
        "print(\"Printing c: \",c)\n",
        "multiply(c,d,final)\n",
        "print(\"Printing final: \",final)\n"
      ],
      "metadata": {
        "colab": {
          "base_uri": "https://localhost:8080/"
        },
        "id": "M5BxpSyVNXH-",
        "outputId": "82f8fed2-3ec4-4763-ff81-ed6d17966e97"
      },
      "execution_count": null,
      "outputs": [
        {
          "output_type": "stream",
          "name": "stdout",
          "text": [
            "Printing c:  [[1, 2, 3], [4, 5, 6], [7, 8, 9]]\n",
            "Printing final:  [[6, 1, 40], [15, 4, 88], [24, 7, 136]]\n"
          ]
        }
      ]
    },
    {
      "cell_type": "code",
      "source": [
        "def perimeter(listing):\n",
        "  leng=len(listing)\n",
        "  perimeter=0;\n",
        "  for i in range(0,leng-1):\n",
        "    dist = (((listing[i][0]-listing[i+1][0])**2) + ((listing[i][1]-listing[i+1][1])**2))**0.5\n",
        "    perimeter = perimeter + dist\n",
        "  perimeter = perimeter+(((listing[0][0]-listing[leng-1][0])**2) + ((listing [0][1] - listing [leng-1][1])**2))** 0.5\n",
        "  return perimeter\n",
        "L = [(1,3), (2,7), (3,9), (-1,8)]\n",
        "print(perimeter(L))"
      ],
      "metadata": {
        "colab": {
          "base_uri": "https://localhost:8080/"
        },
        "id": "C89JTQKEQQqK",
        "outputId": "b5295732-7c00-40e0-f4ed-ad78958a4bfd"
      },
      "execution_count": null,
      "outputs": [
        {
          "output_type": "stream",
          "name": "stdout",
          "text": [
            "15.867444035869614\n"
          ]
        }
      ]
    },
    {
      "cell_type": "code",
      "source": [],
      "metadata": {
        "id": "tWyTh1kFKK_Z"
      },
      "execution_count": null,
      "outputs": []
    }
  ]
}