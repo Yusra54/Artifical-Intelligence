{
  "nbformat": 4,
  "nbformat_minor": 0,
  "metadata": {
    "colab": {
      "provenance": [],
      "authorship_tag": "ABX9TyMv1usBAKmWn7p8E/v7LptY",
      "include_colab_link": true
    },
    "kernelspec": {
      "name": "python3",
      "display_name": "Python 3"
    },
    "language_info": {
      "name": "python"
    }
  },
  "cells": [
    {
      "cell_type": "markdown",
      "metadata": {
        "id": "view-in-github",
        "colab_type": "text"
      },
      "source": [
        "<a href=\"https://colab.research.google.com/github/YusraNawaz054/Artifical-Intelligence/blob/main/AI_Lab_5.ipynb\" target=\"_parent\"><img src=\"https://colab.research.google.com/assets/colab-badge.svg\" alt=\"Open In Colab\"/></a>"
      ]
    },
    {
      "cell_type": "code",
      "execution_count": 2,
      "metadata": {
        "colab": {
          "base_uri": "https://localhost:8080/"
        },
        "id": "W8e_V8jhyz-D",
        "outputId": "99add26d-5ae2-4591-d692-a933a342a486"
      },
      "outputs": [
        {
          "output_type": "stream",
          "name": "stdout",
          "text": [
            "The path is  0\n",
            "The path is  0\n",
            "The path is  1\n",
            "The path is  2\n",
            "The path is  0\n",
            "The path is  1\n",
            "The path is  3\n",
            "The path is  4\n",
            "The path is  2\n",
            "The path is  5\n",
            "The path is  6\n",
            "Founded!\n"
          ]
        }
      ],
      "source": [
        "# Lab 5\n",
        "\n",
        "graph = {'0':['1','2'], '1':['3','4'],'2':['5','6'],'3':[],'4':[],'5':[],'6':[]} # Initializing a graph\n",
        "#print(graph)\n",
        "def DFS(parent,destination,graph,depth):\n",
        "    print(\"The path is \",parent) \n",
        "    if parent==destination: \n",
        "        return True\n",
        "    if depth<=0: \n",
        "        return False\n",
        "    for childs in graph[parent]: \n",
        "        if DFS(childs,destination,graph,depth-1):\n",
        "            return True\n",
        "    return False\n",
        "           \n",
        "def IterativeDeep(parent,destination,graph,depth): \n",
        "    for i in range(depth): \n",
        "        if DFS(parent,destination,graph,i):\n",
        "            return True\n",
        "    return False\n",
        "if not IterativeDeep('0','6',graph,4):\n",
        "    print(\"Not found!! \")\n",
        "else:\n",
        "    print(\"Founded!\")"
      ]
    },
    {
      "cell_type": "code",
      "source": [
        "#Lab Task 1\n",
        "graph = {\n",
        "        'arad':['sibiu', 'zerind', 'timisoara'],\n",
        "        'sibiu':['oradea', 'fagaras', 'rimnicu'],\n",
        "        'zerind':['arad', 'oradea'],\n",
        "        'timisoara':['arad', 'lugoj'],\n",
        "        'oradea':['zerind', 'sibiu'],\n",
        "        'fagaras':['sibiu', 'bucharest'],\n",
        "        'lugoj':['timisoara', 'mehadia'],\n",
        "        'mehadia':['lugoj', 'drobeta'],\n",
        "        'drobeta':['mehadia', 'craiova'],\n",
        "        'craiova':['drobeta', 'riminica','pitesti'],\n",
        "        'riminica':['sibui', 'pitesti','craiova'],\n",
        "        'pitesti':['riminica', 'craiova','bucharest'],\n",
        "        'bucharest':['fagaras', 'pitesti','urziceni'],\n",
        "        'urziceni':['bucharest', 'hirsova','vaslui'],\n",
        "        'hirsova':['urziceni', 'eforie'],\n",
        "        'vaslui':['isai', 'urzicini'],\n",
        "        'eforie':['hirsova'],\n",
        "        'isai':['neamt', 'vaslui'],\n",
        "        'giurgui':['bucharest'],\n",
        "        'neamt':['isai']\n",
        "        }\n",
        "def DFS(parent,destination,graph,depth):\n",
        "    print(\"The path for this is:: \",parent) \n",
        "    if parent==destination:\n",
        "        return True\n",
        "    if depth<=0: \n",
        "        return False\n",
        "    for childs in graph[parent]: \n",
        "        if DFS(childs,destination,graph,depth-1):\n",
        "            return True\n",
        "    return False\n",
        "            \n",
        "def IterativeDeep(parent,destination,graph,depth): \n",
        "    for i in range(depth): \n",
        "        if DFS(parent,destination,graph,i): \n",
        "            return True\n",
        "    return False\n",
        "if not IterativeDeep('arad','bucharest',graph,4):\n",
        "    print(\"No path found!\")\n",
        "else:\n",
        "    print(\"Path founded!\")\n",
        "   "
      ],
      "metadata": {
        "colab": {
          "base_uri": "https://localhost:8080/"
        },
        "id": "bq1S8aFTzSo8",
        "outputId": "b6b746aa-faad-4663-d6b4-afce1544006c"
      },
      "execution_count": 4,
      "outputs": [
        {
          "output_type": "stream",
          "name": "stdout",
          "text": [
            "The path for this is::  arad\n",
            "The path for this is::  arad\n",
            "The path for this is::  sibiu\n",
            "The path for this is::  zerind\n",
            "The path for this is::  timisoara\n",
            "The path for this is::  arad\n",
            "The path for this is::  sibiu\n",
            "The path for this is::  oradea\n",
            "The path for this is::  fagaras\n",
            "The path for this is::  rimnicu\n",
            "The path for this is::  zerind\n",
            "The path for this is::  arad\n",
            "The path for this is::  oradea\n",
            "The path for this is::  timisoara\n",
            "The path for this is::  arad\n",
            "The path for this is::  lugoj\n",
            "The path for this is::  arad\n",
            "The path for this is::  sibiu\n",
            "The path for this is::  oradea\n",
            "The path for this is::  zerind\n",
            "The path for this is::  sibiu\n",
            "The path for this is::  fagaras\n",
            "The path for this is::  sibiu\n",
            "The path for this is::  bucharest\n",
            "Path founded!\n"
          ]
        }
      ]
    },
    {
      "cell_type": "code",
      "source": [
        "# Lab task 2\n",
        "row = [-1, -1, -1, 0, 1, 0, 1, 1]\n",
        "col = [-1, 1, 0, -1, -1, 1, 0, 1]\n",
        " \n",
        " \n",
        "def isSafe(x, y, processed):\n",
        "    return (0 <= x < len(processed)) and (0 <= y < len(processed[0]))\\\n",
        "        and not processed[x][y]\n",
        " \n",
        " \n",
        "\n",
        "def searchBoggle(board, words, result, processed, i, j, path=''):\n",
        "    \n",
        "    processed[i][j] = True\n",
        " \n",
        "    \n",
        "    path += board[i][j]\n",
        " \n",
        "    \n",
        "    if path in words:\n",
        "        result.add(path)\n",
        " \n",
        "   \n",
        "    for k in range(len(row)):\n",
        "        \n",
        "        if isSafe(i + row[k], j + col[k], processed):\n",
        "            searchBoggle(board, words, result, processed, i + row[k], j + col[k], path)\n",
        " \n",
        "   \n",
        "    processed[i][j] = False\n",
        " \n",
        " \n",
        "def searchInBoggle(board, words):\n",
        " \n",
        "   \n",
        "    result = set()\n",
        " \n",
        "   \n",
        "    if not board or not len(board):\n",
        "        return\n",
        " \n",
        "   \n",
        "    (M, N) = (len(board), len(board[0]))\n",
        " \n",
        "   \n",
        "    processed = [[False for x in range(N)] for y in range(M)]\n",
        " \n",
        "    \n",
        "    for i in range(M):\n",
        "        for j in range(N):\n",
        "            \n",
        "            searchBoggle(board, words, result, processed, i, j)\n",
        " \n",
        "    return result\n",
        " \n",
        " \n",
        "if __name__ == '__main__':\n",
        " \n",
        "    board = [\n",
        "        ['M', 'S', 'E'],\n",
        "        ['R', 'A', 'T'],\n",
        "        ['L', 'O', 'N']\n",
        "    ]\n",
        " \n",
        "    words = ['START', 'NOTE', 'SAND', 'STONE']\n",
        " \n",
        "    validWords = searchInBoggle(board, words)\n",
        "    print(\"Valid Words:\")\n",
        "    print(validWords)\n",
        " "
      ],
      "metadata": {
        "colab": {
          "base_uri": "https://localhost:8080/"
        },
        "id": "ZuYJJFlUzxH-",
        "outputId": "83f36e2a-44d1-4f47-eded-7ad7421b4c8c"
      },
      "execution_count": 5,
      "outputs": [
        {
          "output_type": "stream",
          "name": "stdout",
          "text": [
            "Valid Words:\n",
            "{'NOTE'}\n"
          ]
        }
      ]
    }
  ]
}